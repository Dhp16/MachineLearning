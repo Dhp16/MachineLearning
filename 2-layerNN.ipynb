{
 "cells": [
  {
   "cell_type": "markdown",
   "metadata": {},
   "source": [
    "This is my first dive into machine learning, the idea being to gain an understanding of the matrix operations involved in "
   ]
  },
  {
   "cell_type": "code",
   "execution_count": 1,
   "metadata": {},
   "outputs": [],
   "source": [
    "# Import box\n",
    "import numpy as np \n",
    "import pandas as pd \n",
    "import matplotlib.pyplot as plot\n",
    "\n",
    "from sklearn.datasets import load_breast_cancer\n",
    "from sklearn.model_selection import train_test_split\n",
    "from sklearn import preprocessing"
   ]
  },
  {
   "cell_type": "code",
   "execution_count": 2,
   "metadata": {},
   "outputs": [
    {
     "name": "stdout",
     "output_type": "stream",
     "text": [
      "xTrain:  (10, 512)\n",
      "nFeatures:  10\n",
      "nNodes:  12\n"
     ]
    }
   ],
   "source": [
    "#Setup box\n",
    "# /!\\ Reminder, COLUMN MAJOR!\n",
    "#Supervised learning\n",
    "\n",
    "debug = True\n",
    "\n",
    "breastCancerDataset = load_breast_cancer()\n",
    "\n",
    "m_total = len(breastCancerDataset.target)\n",
    "y = breastCancerDataset.target.reshape(m_total, 1)\n",
    "x = breastCancerDataset.data[:, np.r_[0:10]]\n",
    "x = preprocessing.scale(x)\n",
    "\n",
    "xTrain, xTest, yTrain, yTest = train_test_split(x, y, test_size=0.1)\n",
    "\n",
    "xTrain = xTrain.T\n",
    "xTest = xTest.T\n",
    "yTrain = yTrain.T\n",
    "yTest = yTest.T\n",
    "\n",
    "nFeatures = xTrain.shape[0]\n",
    "nNodes = nFeatures+2\n",
    "\n",
    "if(debug):\n",
    "    print(\"xTrain: \", xTrain.shape)\n",
    "    print(\"nFeatures: \", nFeatures)\n",
    "    print(\"nNodes: \", nNodes)"
   ]
  },
  {
   "cell_type": "code",
   "execution_count": 7,
   "metadata": {},
   "outputs": [],
   "source": [
    "def initialise_parameters(nNodes, nFeatures):      # random weights for W & b -> must never intialise weights to 0\n",
    "    \n",
    "    # W size: (nNodes, nFeatures per testcase)\n",
    "    \n",
    "    w = np.random.rand(nNodes, nFeatures)       \n",
    "    b = np.random.rand(nNodes, 1)\n",
    "    return (w, b)\n",
    "\n",
    "def LeakyReLU(Z, slope=0.05):  # Rectified Linear Unit function\n",
    "    return np.maximum(slope*Z, Z)\n",
    "\n",
    "def delta_LeakyReLU(Z, slope=0.05):\n",
    "    Z[Z>0] = 1\n",
    "    Z[Z<0] = slope  \n",
    "    return Z\n",
    "    \n",
    "def Sigmoid(Z, factor=1):                # pretty much tanh(x) but not really\n",
    "    return (1/(1+np.exp(-Z*factor)))\n",
    "\n",
    "def delta_Sigmoid(Z, factor=1):\n",
    "    return np.multiply(Z, 1-Z*factor)\n",
    "\n",
    "def feed_forward_process(A, W, b):   # .T --> transpose\n",
    "    return np.dot(W, A)+b\n",
    "\n",
    "def feed_backward_process(X, Y, parameters, memory):\n",
    "    m = Y.shape[1]        # number of examples\n",
    "\n",
    "    W1, W2 = parameters[\"W1\"], parameters[\"W2\"]\n",
    "    b1, b2 = parameters[\"b1\"], parameters[\"b2\"]\n",
    "    A1, A2, Z1 = memory[\"A1\"], memory[\"A2\"], memory[\"Z1\"]\n",
    "    \n",
    "    dZ2 = A2 - Y\n",
    "        \n",
    "    dW2 = 1/m*np.dot(dZ2,A1.T)\n",
    "    db2 = 1/m*np.sum(dZ2, axis=1, keepdims=True) \n",
    "    \n",
    "    dZ1 = np.multiply(np.dot(W2.T, dZ2),  delta_LeakyReLU(Z1))\n",
    "    dW1 = 1/m*np.dot(dZ1, X.T)\n",
    "    db1 = 1/m*np.sum(dZ1, axis=1, keepdims=True)\n",
    "\n",
    "    gradients = {\n",
    "        \"dW1\" : dW1,\n",
    "        \"db1\" : db1,\n",
    "        \"dW2\" : dW2,\n",
    "        \"db2\" : db2\n",
    "    }\n",
    "    \n",
    "    return gradients\n",
    "    \n",
    "def update_parameters(gradients, parameters, learningRate):\n",
    "    parameters[\"W1\"] = parameters[\"W1\"]- gradients[\"dW1\"]*learningRate\n",
    "    parameters[\"b1\"] = parameters[\"b1\"]- gradients[\"db1\"]*learningRate\n",
    "    parameters[\"W2\"] = parameters[\"W2\"]- gradients[\"dW2\"]*learningRate\n",
    "    parameters[\"b2\"] = parameters[\"b2\"]- gradients[\"db2\"]*learningRate\n",
    "    return parameters\n",
    "\n",
    "def cost_compute(Y, A):               # cost function to be found in the coursera lectures\n",
    "    sample = np.multiply(Y, np.log(A)) + np.multiply((1-Y), np.log(1-A))\n",
    "    sample = np.sum(sample)\n",
    "    return -sample/Y.shape[1]\n"
   ]
  },
  {
   "cell_type": "code",
   "execution_count": 8,
   "metadata": {},
   "outputs": [],
   "source": [
    "def Model(X, Y, xTest, yTest, nNodes, nFeatures, nIterations=10000, debug=False, learningRate=0.01):\n",
    "    nInputs = Y.shape[0]\n",
    "\n",
    "    W1 = initialise_parameters(nNodes, nFeatures)[0]\n",
    "    b1 = initialise_parameters(nNodes, nFeatures)[1]\n",
    "                \n",
    "    parameters = {}\n",
    "    parameters[\"W1\"], parameters[\"b1\"] = W1, b1\n",
    "    parameters[\"W2\"], parameters[\"b2\"] = initialise_parameters(1, nNodes)\n",
    "    parameters[\"b2\"] = np.zeros((1,1))\n",
    "    \n",
    "    Cost = []\n",
    "    Accuracy = []\n",
    "    \n",
    "    for i in range(0, nIterations):\n",
    "        Z1 = feed_forward_process(X, parameters[\"W1\"], parameters[\"b1\"])\n",
    "        A1 = LeakyReLU(Z1)\n",
    "        Z2 = feed_forward_process(A1, parameters[\"W2\"], parameters[\"b2\"])\n",
    "        A2 = Sigmoid(Z2)\n",
    "        cost = cost_compute(Y, A2)\n",
    "        Cost.append(cost)       # plot it\n",
    "        \n",
    "        memory = {\n",
    "            \"A1\" : A1,\n",
    "            \"A2\" : A2,\n",
    "            \"Z1\" : Z1\n",
    "        }\n",
    "        \n",
    "        gradients = feed_backward_process(X, Y, parameters, memory)\n",
    "        parameters = update_parameters(gradients, parameters, learningRate)\n",
    "    \n",
    "        if(debug and i % 1000 == 0):\n",
    "            print(\"iteration: \", i , \"  cost: \", cost)\n",
    "        \n",
    "        predictions = prediction(xTest, parameters)\n",
    "        accuracy = float((np.dot(yTest, predictions.T) + np.dot(1 - yTest, 1 - predictions.T))/ float(yTest.size) * 100)\n",
    "        Accuracy.append(accuracy)\n",
    "        \n",
    "    print(\"Model is ready!\")\n",
    "    \n",
    "    plot.figure(1)\n",
    "    plot.plot(Cost)\n",
    "    plot.ylabel('The Cost Function ($)')\n",
    "    \n",
    "    plot.figure(2)\n",
    "    plot.plot(Accuracy)\n",
    "    plot.ylabel('Accuracy (%)')\n",
    "    \n",
    "    plot.show()\n",
    "    \n",
    "    return parameters"
   ]
  },
  {
   "cell_type": "code",
   "execution_count": 9,
   "metadata": {},
   "outputs": [],
   "source": [
    "def prediction(xTest, parameters):\n",
    "    Z1 = feed_forward_process(xTest, parameters[\"W1\"], parameters[\"b1\"])\n",
    "    A1 = LeakyReLU(Z1)\n",
    "    Z2 = feed_forward_process(A1, parameters[\"W2\"], parameters[\"b2\"])\n",
    "    A2 = Sigmoid(Z2)\n",
    "    prediction = np.round(A2)\n",
    "    return prediction\n",
    "    "
   ]
  },
  {
   "cell_type": "code",
   "execution_count": 10,
   "metadata": {},
   "outputs": [
    {
     "name": "stderr",
     "output_type": "stream",
     "text": [
      "/usr/local/lib/python3.5/dist-packages/ipykernel_launcher.py:59: RuntimeWarning: divide by zero encountered in log\n"
     ]
    },
    {
     "name": "stdout",
     "output_type": "stream",
     "text": [
      "iteration:  0   cost:  inf\n",
      "iteration:  1000   cost:  0.463991786118\n",
      "iteration:  2000   cost:  0.393092960933\n",
      "iteration:  3000   cost:  0.345955647939\n",
      "Model is ready!\n"
     ]
    },
    {
     "data": {
      "image/png": "[encoded data removed]",
      "text/plain": [
       "<matplotlib.figure.Figure at 0x7fa22d0dbd30>"
      ]
     },
     "metadata": {},
     "output_type": "display_data"
    },
    {
     "data": {
      "image/png": "[encoded data removed]",
      "text/plain": [
       "<matplotlib.figure.Figure at 0x7fa22d03fd30>"
      ]
     },
     "metadata": {},
     "output_type": "display_data"
    },
    {
     "name": "stdout",
     "output_type": "stream",
     "text": [
      "Accuracy: 98%\n"
     ]
    }
   ],
   "source": [
    "myModelParameters = Model(xTrain, yTrain, xTest, yTest, nNodes, nFeatures, 4000, debug, 0.001)\n",
    "\n",
    "predictions = prediction(xTest, myModelParameters)\n",
    "\n",
    "print ('Accuracy: %d' % float((np.dot(yTest, predictions.T) + np.dot(1 - yTest, 1 - predictions.T))\n",
    "                              / float(yTest.size) * 100) + '%')\n"
   ]
  },
  {
   "cell_type": "code",
   "execution_count": null,
   "metadata": {},
   "outputs": [],
   "source": []
  },
  {
   "cell_type": "code",
   "execution_count": null,
   "metadata": {},
   "outputs": [],
   "source": []
  }
 ],
 "metadata": {
  "kernelspec": {
   "display_name": "Python 3",
   "language": "python",
   "name": "python3"
  },
  "language_info": {
   "codemirror_mode": {
    "name": "ipython",
    "version": 3
   },
   "file_extension": ".py",
   "mimetype": "text/x-python",
   "name": "python",
   "nbconvert_exporter": "python",
   "pygments_lexer": "ipython3",
   "version": "3.5.2"
  }
 },
 "nbformat": 4,
 "nbformat_minor": 2
}
